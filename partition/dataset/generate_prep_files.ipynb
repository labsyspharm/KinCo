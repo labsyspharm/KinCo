{
 "cells": [
  {
   "cell_type": "markdown",
   "metadata": {},
   "source": [
    "To generate files necessary to run cluster.py"
   ]
  },
  {
   "cell_type": "code",
   "execution_count": 2,
   "metadata": {},
   "outputs": [],
   "source": [
    "import pandas as pd\n",
    "import numpy as np\n",
    "import pickle"
   ]
  },
  {
   "cell_type": "markdown",
   "metadata": {},
   "source": [
    "To create fingerprint dictionary of all compounds in the dataset (morganfp_2_1024_dict_PDBBIND2018+DTC.p): need to create a table with all compounds in the dataset /n/groups/alquraishi/Changchang/Datasets/PDBBind2018/PDBBIND2018+DTC_compounds.csv and run lgd_morgan_mtx_PDBBIND2018+DTC.py to map morgan fingerprints to it"
   ]
  },
  {
   "cell_type": "code",
   "execution_count": 4,
   "metadata": {},
   "outputs": [],
   "source": [
    "pdbbind_dtc = pd.read_csv('../../resources/PDBBIND2018_DTC_1127.csv',\n",
    "                         dtype={'ENTREZ_GENE_ID':object})\n",
    "unique_data = pd.read_csv('../../resources/PDBBIND2018_DTC_1127_unique.csv', \n",
    "                           dtype={'ENTREZ_GENE_ID':object})"
   ]
  },
  {
   "cell_type": "code",
   "execution_count": 3,
   "metadata": {},
   "outputs": [],
   "source": [
    "# clean up pdbbind by giving all kinases gene id based on their Uniprot Entry\n",
    "extended_kinome = pd.read_csv('../../resources/the_697_extended_kinome_v1_annotated.csv', \n",
    "                          dtype={'gene_id':object})"
   ]
  },
  {
   "cell_type": "code",
   "execution_count": 4,
   "metadata": {},
   "outputs": [
    {
     "name": "stderr",
     "output_type": "stream",
     "text": [
      "/anaconda2/envs/py36/lib/python3.6/site-packages/ipykernel_launcher.py:2: SettingWithCopyWarning: \n",
      "A value is trying to be set on a copy of a slice from a DataFrame.\n",
      "Try using .loc[row_indexer,col_indexer] = value instead\n",
      "\n",
      "See the caveats in the documentation: https://pandas.pydata.org/pandas-docs/stable/user_guide/indexing.html#returning-a-view-versus-a-copy\n",
      "  \n"
     ]
    }
   ],
   "source": [
    "unique_data = pdbbind_dtc.drop_duplicates(subset=['ENTREZ_GENE_ID', 'INCHIKEY_DESALT'])\n",
    "unique_data['pair'] = unique_data['ENTREZ_GENE_ID']+'|'+unique_data['INCHIKEY_DESALT']"
   ]
  },
  {
   "cell_type": "markdown",
   "metadata": {},
   "source": [
    "To create kinase_bound_per_cmpd dictionary"
   ]
  },
  {
   "cell_type": "code",
   "execution_count": 6,
   "metadata": {},
   "outputs": [],
   "source": [
    "compound_inchikeys = unique_data['INCHIKEY_DESALT'].drop_duplicates().tolist()\n",
    "\n",
    "kinase_bound_per_cmpd = {'num':{}, 'kinase':{}}\n",
    "for acmpd in compound_inchikeys:\n",
    "    kinase_bound_per_cmpd['kinase'][acmpd] = unique_data.loc[unique_data['INCHIKEY_DESALT']==acmpd]['ENTREZ_GENE_ID'].tolist()\n",
    "    kinase_bound_per_cmpd['num'][acmpd] = len(kinase_bound_per_cmpd['kinase'][acmpd])"
   ]
  },
  {
   "cell_type": "code",
   "execution_count": 7,
   "metadata": {},
   "outputs": [],
   "source": [
    "with open('kinase_bound_per_cmpd.p', 'wb') as handle:\n",
    "    pickle.dump(kinase_bound_per_cmpd, handle)"
   ]
  },
  {
   "cell_type": "markdown",
   "metadata": {},
   "source": [
    "  "
   ]
  },
  {
   "cell_type": "markdown",
   "metadata": {},
   "source": [
    "calculate the kinase distance matrix"
   ]
  },
  {
   "cell_type": "code",
   "execution_count": 8,
   "metadata": {},
   "outputs": [],
   "source": [
    "uniprotnametogeneid = {}\n",
    "for idx, arow in extended_kinome.iterrows():\n",
    "    uniprotnametogeneid[arow['Uniprot Entry name']] = arow['gene_id']\n",
    "uniprotnametogeneid['GRK1_HUMAN'] = '6011'\n",
    "uniprotnametogeneid['FCSK_HUMAN'] = '197258'"
   ]
  },
  {
   "cell_type": "code",
   "execution_count": 51,
   "metadata": {},
   "outputs": [],
   "source": [
    "# distance dictionary is created via multiple sequence alignment of all extended kinome kinases with UniRef90 using \n",
    "# jackhmmer\n",
    "tgt_dist_dict_by_uniprotname_v4 = pickle.load(open('jackhmmer_dist_dict_v4.p', 'rb')) "
   ]
  },
  {
   "cell_type": "code",
   "execution_count": 52,
   "metadata": {},
   "outputs": [],
   "source": [
    "# create distance metric by gene name. For multi-domain proteins, this will record the distance of the domain \n",
    "# more similar in sequence so that clustering is not overoptimistic\n",
    "\n",
    "tgt_dist_dict_by_gene_v4 = {}\n",
    "for akey, aval in tgt_dist_dict_by_uniprotname_v4.items():\n",
    "    pair = sorted(list(akey))\n",
    "    new_key = []\n",
    "    for i in pair:\n",
    "        if 'HUMAN_2' in i:\n",
    "            new_key.append(uniprotnametogeneid[i[:-2]])\n",
    "        else:\n",
    "            new_key.append(uniprotnametogeneid[i])\n",
    "    new_key = frozenset(new_key)\n",
    "    \n",
    "    try:\n",
    "        tgt_dist_dict_by_gene_v4[new_key] = min(aval, tgt_dist_dict_by_gene_v4[new_key])\n",
    "    except KeyError:\n",
    "        tgt_dist_dict_by_gene_v4[new_key] = aval"
   ]
  },
  {
   "cell_type": "code",
   "execution_count": 54,
   "metadata": {},
   "outputs": [
    {
     "name": "stdout",
     "output_type": "stream",
     "text": [
      "150094\n"
     ]
    }
   ],
   "source": [
    "total_dataset_kinases = pdbbind_dtc.loc[pdbbind_dtc['PKL']]['ENTREZ_GENE_ID'].astype(str).drop_duplicates().tolist()\n",
    "# check which kinases not included in similarity dict. This is only because 10454 and 5783 are actually phosphatases\n",
    "# 150094 is SIK1 which will be addressed later\n",
    "for akin in total_dataset_kinases:\n",
    "    try:\n",
    "        tgt_dist_dict_by_gene_v4[frozenset([akin])]\n",
    "    except KeyError:\n",
    "        try:\n",
    "            int(akin)\n",
    "            print(akin)\n",
    "        except ValueError:\n",
    "            continue"
   ]
  },
  {
   "cell_type": "code",
   "execution_count": 59,
   "metadata": {},
   "outputs": [],
   "source": [
    "# add SIK1 150094\n",
    "tgt_dist_dict_by_gene_v4_parsed = {}\n",
    "for akey, aval in tgt_dist_dict_by_gene_v4.items():\n",
    "    old_key = list(akey)\n",
    "    tgt_dist_dict_by_gene_v4_parsed[frozenset(old_key)] = aval\n",
    "    if '102724428' in old_key:\n",
    "        new_key = ['150094' if x=='102724428' else x for x in old_key]\n",
    "        tgt_dist_dict_by_gene_v4_parsed[frozenset(new_key)] = aval"
   ]
  },
  {
   "cell_type": "code",
   "execution_count": 8,
   "metadata": {},
   "outputs": [],
   "source": [
    "kinase_pdbproteins = pdbbind_dtc['ENTREZ_GENE_ID'].astype(str).drop_duplicates().tolist()"
   ]
  },
  {
   "cell_type": "code",
   "execution_count": 61,
   "metadata": {},
   "outputs": [],
   "source": [
    "# complete the distance matrix by assigning not aligned kinases to 0\n",
    "# Assign sequence similarity non-kinases in PDBBind to 0\n",
    "\n",
    "tgt_dist_dict_by_gene_finish = {}\n",
    "for akin in kinase_pdbproteins:\n",
    "    for bkin in kinase_pdbproteins: \n",
    "        try:\n",
    "            tgt_dist_dict_by_gene_finish[frozenset([str(akin), str(bkin)])] = tgt_dist_dict_by_gene_v4_parsed[frozenset([akin, bkin])]\n",
    "        except KeyError:\n",
    "            if akin == bkin:\n",
    "                tgt_dist_dict_by_gene_finish[frozenset([str(akin), str(bkin)])] = 0.\n",
    "            else:\n",
    "                tgt_dist_dict_by_gene_finish[frozenset([str(akin), str(bkin)])] = 100."
   ]
  },
  {
   "cell_type": "code",
   "execution_count": 62,
   "metadata": {},
   "outputs": [],
   "source": [
    "with open('tgt_dist_dict_by_gene_v4.p', 'wb') as handle:\n",
    "    pickle.dump(tgt_dist_dict_by_gene_finish, handle)"
   ]
  },
  {
   "cell_type": "markdown",
   "metadata": {},
   "source": [
    "   "
   ]
  },
  {
   "cell_type": "markdown",
   "metadata": {},
   "source": [
    "To create cmpd_bound_per_kinase dictionary"
   ]
  },
  {
   "cell_type": "code",
   "execution_count": 9,
   "metadata": {},
   "outputs": [],
   "source": [
    "cmpd_bound_per_kinase = {'num':{}, 'compound':{}}\n",
    "for akinase in kinase_pdbproteins:\n",
    "    cmpd_bound_per_kinase['compound'][akinase] = unique_data.loc[unique_data['ENTREZ_GENE_ID']==akinase]['INCHIKEY_DESALT'].tolist()\n",
    "    cmpd_bound_per_kinase['num'][akinase] = len(cmpd_bound_per_kinase['compound'][akinase])"
   ]
  },
  {
   "cell_type": "code",
   "execution_count": 10,
   "metadata": {},
   "outputs": [],
   "source": [
    "with open('cmpd_bound_per_kinase.p', 'wb') as handle:\n",
    "    pickle.dump(cmpd_bound_per_kinase, handle)"
   ]
  },
  {
   "cell_type": "markdown",
   "metadata": {},
   "source": [
    "   "
   ]
  },
  {
   "cell_type": "markdown",
   "metadata": {},
   "source": [
    "Now identify pairs that would go into validation/test set. To have a fair representation of all affinities, I will divide the dataset into nonbinders, low affinities, high affinities, and crystal structures. "
   ]
  },
  {
   "cell_type": "code",
   "execution_count": 5,
   "metadata": {},
   "outputs": [],
   "source": [
    "pkl_pairs = unique_data.loc[unique_data['PKL']]"
   ]
  },
  {
   "cell_type": "markdown",
   "metadata": {},
   "source": [
    "There are also kinase pairs where the ligands have metals or are peptides ('mer'). Because ligands in the docked structures do not contain metal, this might be a way for the model to differentiate between crystal and docked structures. Therefore I will only include pairs where the ligand do not have metals for training. xtal_lgd_clean contains only the pairs where are not peptides or metals"
   ]
  },
  {
   "cell_type": "code",
   "execution_count": 16,
   "metadata": {},
   "outputs": [
    {
     "name": "stderr",
     "output_type": "stream",
     "text": [
      "/Users/cl321/opt/anaconda3/lib/python3.8/site-packages/pandas/core/frame.py:4163: SettingWithCopyWarning: \n",
      "A value is trying to be set on a copy of a slice from a DataFrame\n",
      "\n",
      "See the caveats in the documentation: https://pandas.pydata.org/pandas-docs/stable/user_guide/indexing.html#returning-a-view-versus-a-copy\n",
      "  return super().drop(\n"
     ]
    }
   ],
   "source": [
    "xtal_lgd_clean=pd.read_csv('../../resources/PDBBIND_ligand_cleaned.csv')"
   ]
  },
  {
   "cell_type": "markdown",
   "metadata": {},
   "source": [
    "    "
   ]
  },
  {
   "cell_type": "markdown",
   "metadata": {},
   "source": [
    "The docked pairs will be divided by their affinity: high, low and nonbinding"
   ]
  },
  {
   "cell_type": "code",
   "execution_count": 24,
   "metadata": {},
   "outputs": [],
   "source": [
    "highaff = pkl_pairs.loc[(pkl_pairs['RESULT_VALUE_min']<-4)&(pkl_pairs['dataset'].isin(['KI', 'KD']))]\n",
    "lowaff = pkl_pairs.loc[(pkl_pairs['RESULT_VALUE_min']>=-4)&(\n",
    "    pkl_pairs['RESULT_VALUE_min']<np.log(10))&(\n",
    "    pkl_pairs['dataset'].isin(['KI', 'KD']))]\n",
    "nonbinding=pkl_pairs.loc[(pkl_pairs['RESULT_VALUE_min']>=np.log(10))&(pkl_pairs['dataset'].isin(['KI', 'KD']))]"
   ]
  },
  {
   "cell_type": "code",
   "execution_count": 25,
   "metadata": {},
   "outputs": [],
   "source": [
    "xtalkinase_pairs = xtal_lgd_clean['pair'].tolist()\n",
    "highaff_pairs = highaff['pair'].tolist()\n",
    "lowaff_pairs = lowaff['pair'].tolist()\n",
    "nonbinding_pairs = nonbinding['pair'].tolist()"
   ]
  },
  {
   "cell_type": "markdown",
   "metadata": {},
   "source": [
    "Now identify pairs for pretraining. These will be non-kinase pairs"
   ]
  },
  {
   "cell_type": "code",
   "execution_count": 29,
   "metadata": {},
   "outputs": [],
   "source": [
    "pdbbind_raw = unique_data.loc[unique_data['dataset']=='PDBBIND']\n",
    "pdbbind_raw = pdbbind_raw.merge(PDBBIND[['PDB_CODE', 'ligand']])\n",
    "pdbbind_nonkinase = pdbbind_raw.loc[(~pdbbind_raw['PKL'])|(pdbbind_raw['ligand'].str.contains('mer'))]\n",
    "pdbbind_nonkinase_pairs = pdbbind_nonkinase['pair'].tolist()"
   ]
  },
  {
   "cell_type": "markdown",
   "metadata": {},
   "source": [
    "All the kinases with PKL fold are included in validation/test"
   ]
  },
  {
   "cell_type": "code",
   "execution_count": 32,
   "metadata": {},
   "outputs": [],
   "source": [
    "docked_kinases = pkl_pairs['ENTREZ_GENE_ID'].drop_duplicates().tolist()"
   ]
  },
  {
   "cell_type": "markdown",
   "metadata": {},
   "source": [
    "Lastly all the pairs in the PDBBIND+DTC dataset are in the training/validation/test set"
   ]
  },
  {
   "cell_type": "code",
   "execution_count": 33,
   "metadata": {},
   "outputs": [],
   "source": [
    "merge_table_pairs = unique_data['pair'].tolist()"
   ]
  },
  {
   "cell_type": "markdown",
   "metadata": {},
   "source": [
    "save everything "
   ]
  },
  {
   "cell_type": "code",
   "execution_count": 34,
   "metadata": {},
   "outputs": [
    {
     "data": {
      "text/plain": [
       "24433"
      ]
     },
     "execution_count": 34,
     "metadata": {},
     "output_type": "execute_result"
    }
   ],
   "source": [
    "len(pdbbind_dtc['INCHIKEY_DESALT'].drop_duplicates().tolist())"
   ]
  },
  {
   "cell_type": "code",
   "execution_count": 35,
   "metadata": {},
   "outputs": [],
   "source": [
    "np.savetxt('PDBBIND+DTC_pairs.txt', merge_table_pairs, fmt='%s')\n",
    "np.savetxt('xtal-kinase_pairs.txt', xtalkinase_pairs, fmt='%s')\n",
    "np.savetxt('highaff_pairs.txt', highaff_pairs, fmt='%s')\n",
    "np.savetxt('lowaff_pairs.txt', lowaff_pairs, fmt='%s')\n",
    "np.savetxt('nonbinding_pairs.txt', nonbinding_pairs, fmt='%s')\n",
    "np.savetxt('xtal-nonkinase_pairs.txt', pdbbind_nonkinase_pairs, fmt='%s')\n",
    "np.savetxt('docked_kinases.txt', docked_kinases, fmt='%s')"
   ]
  }
 ],
 "metadata": {
  "kernelspec": {
   "display_name": "Python 3",
   "language": "python",
   "name": "python3"
  },
  "language_info": {
   "codemirror_mode": {
    "name": "ipython",
    "version": 3
   },
   "file_extension": ".py",
   "mimetype": "text/x-python",
   "name": "python",
   "nbconvert_exporter": "python",
   "pygments_lexer": "ipython3",
   "version": "3.8.5"
  }
 },
 "nbformat": 4,
 "nbformat_minor": 2
}
